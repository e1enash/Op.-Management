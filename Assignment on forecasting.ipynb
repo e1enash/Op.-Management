{
 "cells": [
  {
   "cell_type": "code",
   "execution_count": 90,
   "metadata": {},
   "outputs": [],
   "source": [
    "import scipy.stats as ss\n",
    "import numpy as np\n",
    "import pandas as pd\n",
    "import matplotlib.pyplot as pt\n",
    "import seaborn as sns\n",
    "import statsmodels.formula.api as smf\n",
    "import statsmodels.api as sm\n",
    "import datetime\n",
    "from openpyxl import load_workbook\n",
    "pd.set_option('display.max_columns', None)\n",
    "pd.set_option('display.max_colwidth', None)\n",
    "pd.set_option('display.float_format', lambda x: '%.2f' % x)\n"
   ]
  },
  {
   "cell_type": "markdown",
   "metadata": {},
   "source": [
    "## Problem 1"
   ]
  },
  {
   "cell_type": "code",
   "execution_count": 92,
   "metadata": {},
   "outputs": [],
   "source": [
    "sales = pd.read_excel('Home Assignment 3 Data.xlsx', sheet_name=0) # читаем 1 лист"
   ]
  },
  {
   "cell_type": "code",
   "execution_count": 93,
   "metadata": {},
   "outputs": [
    {
     "data": {
      "text/html": [
       "<div>\n",
       "<style scoped>\n",
       "    .dataframe tbody tr th:only-of-type {\n",
       "        vertical-align: middle;\n",
       "    }\n",
       "\n",
       "    .dataframe tbody tr th {\n",
       "        vertical-align: top;\n",
       "    }\n",
       "\n",
       "    .dataframe thead th {\n",
       "        text-align: right;\n",
       "    }\n",
       "</style>\n",
       "<table border=\"1\" class=\"dataframe\">\n",
       "  <thead>\n",
       "    <tr style=\"text-align: right;\">\n",
       "      <th></th>\n",
       "      <th>index</th>\n",
       "      <th>2009</th>\n",
       "      <th>2010</th>\n",
       "      <th>2011</th>\n",
       "      <th>2012</th>\n",
       "      <th>2013</th>\n",
       "      <th>2014</th>\n",
       "      <th>2015</th>\n",
       "      <th>2016</th>\n",
       "      <th>2017</th>\n",
       "      <th>2018</th>\n",
       "      <th>2019</th>\n",
       "    </tr>\n",
       "  </thead>\n",
       "  <tbody>\n",
       "    <tr>\n",
       "      <th>0</th>\n",
       "      <td>Product 1</td>\n",
       "      <td>173</td>\n",
       "      <td>156</td>\n",
       "      <td>159</td>\n",
       "      <td>189</td>\n",
       "      <td>184</td>\n",
       "      <td>214</td>\n",
       "      <td>191</td>\n",
       "      <td>178</td>\n",
       "      <td>169</td>\n",
       "      <td>179</td>\n",
       "      <td>222</td>\n",
       "    </tr>\n",
       "    <tr>\n",
       "      <th>1</th>\n",
       "      <td>Product 2</td>\n",
       "      <td>226</td>\n",
       "      <td>196</td>\n",
       "      <td>179</td>\n",
       "      <td>200</td>\n",
       "      <td>211</td>\n",
       "      <td>220</td>\n",
       "      <td>205</td>\n",
       "      <td>213</td>\n",
       "      <td>228</td>\n",
       "      <td>195</td>\n",
       "      <td>202</td>\n",
       "    </tr>\n",
       "    <tr>\n",
       "      <th>2</th>\n",
       "      <td>Product 3</td>\n",
       "      <td>205</td>\n",
       "      <td>195</td>\n",
       "      <td>197</td>\n",
       "      <td>210</td>\n",
       "      <td>197</td>\n",
       "      <td>177</td>\n",
       "      <td>175</td>\n",
       "      <td>185</td>\n",
       "      <td>200</td>\n",
       "      <td>196</td>\n",
       "      <td>224</td>\n",
       "    </tr>\n",
       "    <tr>\n",
       "      <th>3</th>\n",
       "      <td>Product 4</td>\n",
       "      <td>218</td>\n",
       "      <td>236</td>\n",
       "      <td>230</td>\n",
       "      <td>250</td>\n",
       "      <td>182</td>\n",
       "      <td>188</td>\n",
       "      <td>195</td>\n",
       "      <td>191</td>\n",
       "      <td>199</td>\n",
       "      <td>234</td>\n",
       "      <td>230</td>\n",
       "    </tr>\n",
       "    <tr>\n",
       "      <th>4</th>\n",
       "      <td>Product 5</td>\n",
       "      <td>198</td>\n",
       "      <td>203</td>\n",
       "      <td>185</td>\n",
       "      <td>202</td>\n",
       "      <td>203</td>\n",
       "      <td>189</td>\n",
       "      <td>182</td>\n",
       "      <td>179</td>\n",
       "      <td>197</td>\n",
       "      <td>186</td>\n",
       "      <td>160</td>\n",
       "    </tr>\n",
       "  </tbody>\n",
       "</table>\n",
       "</div>"
      ],
      "text/plain": [
       "       index  2009  2010  2011  2012  2013  2014  2015  2016  2017  2018  2019\n",
       "0  Product 1   173   156   159   189   184   214   191   178   169   179   222\n",
       "1  Product 2   226   196   179   200   211   220   205   213   228   195   202\n",
       "2  Product 3   205   195   197   210   197   177   175   185   200   196   224\n",
       "3  Product 4   218   236   230   250   182   188   195   191   199   234   230\n",
       "4  Product 5   198   203   185   202   203   189   182   179   197   186   160"
      ]
     },
     "execution_count": 93,
     "metadata": {},
     "output_type": "execute_result"
    }
   ],
   "source": [
    "sales.rename(columns = {'Unnamed: 0': 'index'}, inplace = True) # переименовываем для удобства столбец с товарами\n",
    "sales.head()"
   ]
  },
  {
   "cell_type": "code",
   "execution_count": 103,
   "metadata": {},
   "outputs": [
    {
     "name": "stdout",
     "output_type": "stream",
     "text": [
      "Модели оценены и сохранены в файл 'model_parameters.xlsx'.\n"
     ]
    }
   ],
   "source": [
    "historical = list(range(2010, 2019)) # список лет для оценки по первой модели\n",
    "historical1 = list(range(2009, 2019)) # для второй модели\n",
    "forecast_year = 2019                  # для прогноза\n",
    "\n",
    "train_data = sales.loc[:, historical] \n",
    "train_AR = sales.loc[:, historical1] \n",
    "forecast_data = sales.loc[:, [forecast_year]] \n",
    "\n",
    "results_iid = {'product': [], 'mu': [], 'sigma': [], 'expected_2019': []} # создаем пустые словари для сохранения результатов аналзиа\n",
    "results_ar1 = {'product': [], 'mu': [], 'phi': [], 'sigma': [], 'expected_2019': []}\n",
    "\n",
    "for product_idx, product_data in train_data.iterrows(): # цикл для 80 регрессий\n",
    "    y = product_data.values # строим IID модель\n",
    "    X_iid = np.ones(len(y))\n",
    "    model_iid = sm.OLS(y, X_iid).fit()\n",
    "    mu_iid = model_iid.params[0]\n",
    "    sigma_iid = model_iid.resid.std()\n",
    "    \n",
    "    results_iid['product'].append(product_idx)\n",
    "    results_iid['mu'].append(mu_iid)\n",
    "    results_iid['sigma'].append(sigma_iid)\n",
    "    results_iid['expected_2019'].append(mu_iid)\n",
    "   \n",
    "for product_idx, product_data in train_AR.iterrows(): # строим AR(1) модель\n",
    "    y = product_data.values\n",
    "    y_ar1 = y[1:] # начинаем учет с 2010 года\n",
    "    X_ar1 = sm.add_constant(y[:-1])  # задаем лаги\n",
    "    model_ar1 = sm.OLS(y_ar1, X_ar1).fit()\n",
    "    mu_ar1 = model_ar1.params[0]\n",
    "    phi_ar1 = model_ar1.params[1]\n",
    "    sigma_ar1 = model_ar1.resid.std()\n",
    "    a = 2018\n",
    "    last_year_sales = train_AR.at[product_idx, a]\n",
    "    expected_AR1 = mu_ar1 + phi_ar1 * last_year_sales\n",
    "    \n",
    "    results_ar1['product'].append(product_idx)\n",
    "    results_ar1['mu'].append(mu_ar1)\n",
    "    results_ar1['phi'].append(phi_ar1)\n",
    "    results_ar1['sigma'].append(sigma_ar1)\n",
    "    results_ar1['expected_2019'].append(expected_AR1)\n",
    "\n",
    "results_iid_df = pd.DataFrame(results_iid)\n",
    "results_ar1_df = pd.DataFrame(results_ar1)\n",
    "\n",
    "results_iid_df['sales_19'] = forecast_data\n",
    "results_ar1_df['sales_19'] = forecast_data\n",
    "results_iid['MSE'] = []\n",
    "results_iid['PIT'] = []\n",
    "results_ar1['MSE'] = []\n",
    "results_ar1['PIT'] = []\n",
    "\n",
    "for product_idx, product_data in results_iid_df.iterrows(): # оцениваем MSE, строим PIT\n",
    "    actual = results_iid_df.at[product_idx, 'sales_19']\n",
    "    exp = results_iid_df.at[product_idx, 'expected_2019']\n",
    "    sigma = results_iid_df.at[product_idx, 'sigma']\n",
    "    mse = (actual - exp)**2\n",
    "    PIT = ss.norm.cdf(actual, loc=exp, scale=sigma)  \n",
    "    results_iid['MSE'].append(mse)\n",
    "    results_iid['PIT'].append(PIT) \n",
    "results_iid_df = pd.DataFrame(results_iid)\n",
    "\n",
    "for product_idx, product_data in results_ar1_df.iterrows(): # аналогично для второй модели\n",
    "    actual = results_ar1_df.at[product_idx, 'sales_19']\n",
    "    exp = results_ar1_df.at[product_idx, 'expected_2019']\n",
    "    mse = (actual - exp)**2\n",
    "    PIT = ss.norm.cdf(actual, loc=exp, scale=sigma)  \n",
    "    results_ar1['MSE'].append(mse)\n",
    "    results_ar1['PIT'].append(PIT)\n",
    "results_ar1_df = pd.DataFrame(results_ar1)\n",
    "\n",
    "file_path = r'C:\\Users\\admin\\OneDrive\\Документы\\excel 2 модуль\\model_parameters.xlsx' # сохраняем все в одной книге эксель\n",
    "try:\n",
    "    with pd.ExcelWriter(file_path) as writer:  \n",
    "        results_iid_df.to_excel(writer, sheet_name='IID_Model', index=False) \n",
    "        results_ar1_df.to_excel(writer, sheet_name='AR1_Model', index=False)\n",
    "    print(\"Модели оценены и сохранены в файл 'model_parameters.xlsx'.\")\n",
    "except Exception as e:\n",
    "    print(f\"Ошибка при сохранении файла: {e}\")\n"
   ]
  },
  {
   "cell_type": "markdown",
   "metadata": {},
   "source": [
    "### IID model. Tasks A, B, C, D"
   ]
  },
  {
   "cell_type": "code",
   "execution_count": 104,
   "metadata": {},
   "outputs": [
    {
     "data": {
      "text/html": [
       "<div>\n",
       "<style scoped>\n",
       "    .dataframe tbody tr th:only-of-type {\n",
       "        vertical-align: middle;\n",
       "    }\n",
       "\n",
       "    .dataframe tbody tr th {\n",
       "        vertical-align: top;\n",
       "    }\n",
       "\n",
       "    .dataframe thead th {\n",
       "        text-align: right;\n",
       "    }\n",
       "</style>\n",
       "<table border=\"1\" class=\"dataframe\">\n",
       "  <thead>\n",
       "    <tr style=\"text-align: right;\">\n",
       "      <th></th>\n",
       "      <th>product</th>\n",
       "      <th>mu</th>\n",
       "      <th>sigma</th>\n",
       "      <th>expected_2019</th>\n",
       "      <th>MSE</th>\n",
       "      <th>PIT</th>\n",
       "    </tr>\n",
       "  </thead>\n",
       "  <tbody>\n",
       "    <tr>\n",
       "      <th>0</th>\n",
       "      <td>0</td>\n",
       "      <td>179.89</td>\n",
       "      <td>16.72</td>\n",
       "      <td>179.89</td>\n",
       "      <td>1773.35</td>\n",
       "      <td>0.99</td>\n",
       "    </tr>\n",
       "    <tr>\n",
       "      <th>1</th>\n",
       "      <td>1</td>\n",
       "      <td>205.22</td>\n",
       "      <td>13.89</td>\n",
       "      <td>205.22</td>\n",
       "      <td>10.38</td>\n",
       "      <td>0.41</td>\n",
       "    </tr>\n",
       "    <tr>\n",
       "      <th>2</th>\n",
       "      <td>2</td>\n",
       "      <td>192.44</td>\n",
       "      <td>10.67</td>\n",
       "      <td>192.44</td>\n",
       "      <td>995.75</td>\n",
       "      <td>1.00</td>\n",
       "    </tr>\n",
       "    <tr>\n",
       "      <th>3</th>\n",
       "      <td>3</td>\n",
       "      <td>211.67</td>\n",
       "      <td>24.04</td>\n",
       "      <td>211.67</td>\n",
       "      <td>336.11</td>\n",
       "      <td>0.78</td>\n",
       "    </tr>\n",
       "    <tr>\n",
       "      <th>4</th>\n",
       "      <td>4</td>\n",
       "      <td>191.78</td>\n",
       "      <td>9.00</td>\n",
       "      <td>191.78</td>\n",
       "      <td>1009.83</td>\n",
       "      <td>0.00</td>\n",
       "    </tr>\n",
       "  </tbody>\n",
       "</table>\n",
       "</div>"
      ],
      "text/plain": [
       "   product     mu  sigma  expected_2019     MSE  PIT\n",
       "0        0 179.89  16.72         179.89 1773.35 0.99\n",
       "1        1 205.22  13.89         205.22   10.38 0.41\n",
       "2        2 192.44  10.67         192.44  995.75 1.00\n",
       "3        3 211.67  24.04         211.67  336.11 0.78\n",
       "4        4 191.78   9.00         191.78 1009.83 0.00"
      ]
     },
     "execution_count": 104,
     "metadata": {},
     "output_type": "execute_result"
    }
   ],
   "source": [
    "results_iid_df.head()"
   ]
  },
  {
   "cell_type": "code",
   "execution_count": 8,
   "metadata": {},
   "outputs": [
    {
     "data": {
      "text/plain": [
       "<Axes: ylabel='Frequency'>"
      ]
     },
     "execution_count": 8,
     "metadata": {},
     "output_type": "execute_result"
    },
    {
     "data": {
      "image/png": "[encoded data removed]",
      "text/plain": [
       "<Figure size 640x480 with 1 Axes>"
      ]
     },
     "metadata": {},
     "output_type": "display_data"
    }
   ],
   "source": [
    "results_iid_df.PIT.plot(kind = \"hist\",bins=10)"
   ]
  },
  {
   "cell_type": "markdown",
   "metadata": {},
   "source": [
    "### AR(1) model. Tasks A, B, C, D"
   ]
  },
  {
   "cell_type": "code",
   "execution_count": 9,
   "metadata": {},
   "outputs": [
    {
     "data": {
      "text/html": [
       "<div>\n",
       "<style scoped>\n",
       "    .dataframe tbody tr th:only-of-type {\n",
       "        vertical-align: middle;\n",
       "    }\n",
       "\n",
       "    .dataframe tbody tr th {\n",
       "        vertical-align: top;\n",
       "    }\n",
       "\n",
       "    .dataframe thead th {\n",
       "        text-align: right;\n",
       "    }\n",
       "</style>\n",
       "<table border=\"1\" class=\"dataframe\">\n",
       "  <thead>\n",
       "    <tr style=\"text-align: right;\">\n",
       "      <th></th>\n",
       "      <th>product</th>\n",
       "      <th>mu</th>\n",
       "      <th>phi</th>\n",
       "      <th>sigma</th>\n",
       "      <th>expected_2019</th>\n",
       "      <th>MSE</th>\n",
       "      <th>PIT</th>\n",
       "    </tr>\n",
       "  </thead>\n",
       "  <tbody>\n",
       "    <tr>\n",
       "      <th>0</th>\n",
       "      <td>0</td>\n",
       "      <td>107.12</td>\n",
       "      <td>0.41</td>\n",
       "      <td>15.26</td>\n",
       "      <td>179.80</td>\n",
       "      <td>1780.95</td>\n",
       "      <td>0.99</td>\n",
       "    </tr>\n",
       "    <tr>\n",
       "      <th>1</th>\n",
       "      <td>1</td>\n",
       "      <td>185.84</td>\n",
       "      <td>0.09</td>\n",
       "      <td>13.82</td>\n",
       "      <td>203.95</td>\n",
       "      <td>3.81</td>\n",
       "      <td>0.46</td>\n",
       "    </tr>\n",
       "    <tr>\n",
       "      <th>2</th>\n",
       "      <td>2</td>\n",
       "      <td>108.54</td>\n",
       "      <td>0.43</td>\n",
       "      <td>9.46</td>\n",
       "      <td>193.55</td>\n",
       "      <td>927.03</td>\n",
       "      <td>0.94</td>\n",
       "    </tr>\n",
       "    <tr>\n",
       "      <th>3</th>\n",
       "      <td>3</td>\n",
       "      <td>141.08</td>\n",
       "      <td>0.34</td>\n",
       "      <td>22.78</td>\n",
       "      <td>219.78</td>\n",
       "      <td>104.54</td>\n",
       "      <td>0.70</td>\n",
       "    </tr>\n",
       "    <tr>\n",
       "      <th>4</th>\n",
       "      <td>4</td>\n",
       "      <td>174.79</td>\n",
       "      <td>0.09</td>\n",
       "      <td>8.97</td>\n",
       "      <td>191.15</td>\n",
       "      <td>970.47</td>\n",
       "      <td>0.05</td>\n",
       "    </tr>\n",
       "  </tbody>\n",
       "</table>\n",
       "</div>"
      ],
      "text/plain": [
       "   product     mu  phi  sigma  expected_2019     MSE  PIT\n",
       "0        0 107.12 0.41  15.26         179.80 1780.95 0.99\n",
       "1        1 185.84 0.09  13.82         203.95    3.81 0.46\n",
       "2        2 108.54 0.43   9.46         193.55  927.03 0.94\n",
       "3        3 141.08 0.34  22.78         219.78  104.54 0.70\n",
       "4        4 174.79 0.09   8.97         191.15  970.47 0.05"
      ]
     },
     "execution_count": 9,
     "metadata": {},
     "output_type": "execute_result"
    }
   ],
   "source": [
    "results_ar1_df.head()"
   ]
  },
  {
   "cell_type": "code",
   "execution_count": 10,
   "metadata": {},
   "outputs": [
    {
     "data": {
      "text/plain": [
       "<Axes: ylabel='Frequency'>"
      ]
     },
     "execution_count": 10,
     "metadata": {},
     "output_type": "execute_result"
    },
    {
     "data": {
      "image/png": "[encoded data removed]",
      "text/plain": [
       "<Figure size 640x480 with 1 Axes>"
      ]
     },
     "metadata": {},
     "output_type": "display_data"
    }
   ],
   "source": [
    "results_ar1_df.PIT.plot(kind = \"hist\",bins=10)"
   ]
  },
  {
   "cell_type": "code",
   "execution_count": 11,
   "metadata": {},
   "outputs": [
    {
     "name": "stdout",
     "output_type": "stream",
     "text": [
      "Среднее значение MSE для модели IID составляет: 491.41\n",
      "Среднее значение MSE для модели AR(1) составляет: 420.94\n"
     ]
    }
   ],
   "source": [
    "print(f'Среднее значение MSE для модели IID составляет: {round(results_iid_df[\"MSE\"].mean(), 2)}')\n",
    "print(f'Среднее значение MSE для модели AR(1) составляет: {round(results_ar1_df[\"MSE\"].mean(), 2)}')"
   ]
  },
  {
   "cell_type": "markdown",
   "metadata": {},
   "source": [
    "Таким образом, вторая модель - AR (1) - делает более точные прогнозы, если судить по MSE. Принимая во вниманиегистограммы PIT, первая модель далека от равномерного распределения. Присутствуют признаки overconfidence (разброс оказался сильнее, чем мы ожидали, много выбросов. Мы недооценили стандартное отклонение). У второй же модели дела обстоят снова лучше: она ближе к равномерному распределению. Однако можно предположить, что присутствует pessimism (гистограмма идет правее и выше, то есть мы недооценили ожидаемый спрос), а также снова overconfidence."
   ]
  },
  {
   "cell_type": "markdown",
   "metadata": {},
   "source": [
    "## Problem 2"
   ]
  },
  {
   "cell_type": "code",
   "execution_count": 95,
   "metadata": {},
   "outputs": [
    {
     "data": {
      "text/html": [
       "<div>\n",
       "<style scoped>\n",
       "    .dataframe tbody tr th:only-of-type {\n",
       "        vertical-align: middle;\n",
       "    }\n",
       "\n",
       "    .dataframe tbody tr th {\n",
       "        vertical-align: top;\n",
       "    }\n",
       "\n",
       "    .dataframe thead th {\n",
       "        text-align: right;\n",
       "    }\n",
       "</style>\n",
       "<table border=\"1\" class=\"dataframe\">\n",
       "  <thead>\n",
       "    <tr style=\"text-align: right;\">\n",
       "      <th></th>\n",
       "      <th>index</th>\n",
       "      <th>Sales</th>\n",
       "      <th>Stockout date</th>\n",
       "      <th>Keith</th>\n",
       "      <th>Brianna</th>\n",
       "      <th>Blair</th>\n",
       "      <th>Kelsey</th>\n",
       "      <th>Matthew</th>\n",
       "      <th>Dylan</th>\n",
       "      <th>Lavada</th>\n",
       "    </tr>\n",
       "  </thead>\n",
       "  <tbody>\n",
       "    <tr>\n",
       "      <th>0</th>\n",
       "      <td>Product 1</td>\n",
       "      <td>105</td>\n",
       "      <td>2019-12-01</td>\n",
       "      <td>134</td>\n",
       "      <td>165</td>\n",
       "      <td>124</td>\n",
       "      <td>136</td>\n",
       "      <td>164</td>\n",
       "      <td>140</td>\n",
       "      <td>129</td>\n",
       "    </tr>\n",
       "    <tr>\n",
       "      <th>1</th>\n",
       "      <td>Product 2</td>\n",
       "      <td>105</td>\n",
       "      <td>2019-12-21</td>\n",
       "      <td>128</td>\n",
       "      <td>108</td>\n",
       "      <td>105</td>\n",
       "      <td>107</td>\n",
       "      <td>97</td>\n",
       "      <td>106</td>\n",
       "      <td>116</td>\n",
       "    </tr>\n",
       "    <tr>\n",
       "      <th>2</th>\n",
       "      <td>Product 3</td>\n",
       "      <td>39</td>\n",
       "      <td>NaT</td>\n",
       "      <td>39</td>\n",
       "      <td>47</td>\n",
       "      <td>43</td>\n",
       "      <td>45</td>\n",
       "      <td>43</td>\n",
       "      <td>66</td>\n",
       "      <td>22</td>\n",
       "    </tr>\n",
       "    <tr>\n",
       "      <th>3</th>\n",
       "      <td>Product 4</td>\n",
       "      <td>105</td>\n",
       "      <td>2019-12-20</td>\n",
       "      <td>105</td>\n",
       "      <td>112</td>\n",
       "      <td>114</td>\n",
       "      <td>119</td>\n",
       "      <td>115</td>\n",
       "      <td>119</td>\n",
       "      <td>108</td>\n",
       "    </tr>\n",
       "    <tr>\n",
       "      <th>4</th>\n",
       "      <td>Product 5</td>\n",
       "      <td>105</td>\n",
       "      <td>2019-12-17</td>\n",
       "      <td>118</td>\n",
       "      <td>129</td>\n",
       "      <td>140</td>\n",
       "      <td>117</td>\n",
       "      <td>103</td>\n",
       "      <td>127</td>\n",
       "      <td>114</td>\n",
       "    </tr>\n",
       "  </tbody>\n",
       "</table>\n",
       "</div>"
      ],
      "text/plain": [
       "       index  Sales Stockout date  Keith  Brianna  Blair  Kelsey  Matthew  \\\n",
       "0  Product 1    105    2019-12-01    134      165    124     136      164   \n",
       "1  Product 2    105    2019-12-21    128      108    105     107       97   \n",
       "2  Product 3     39           NaT     39       47     43      45       43   \n",
       "3  Product 4    105    2019-12-20    105      112    114     119      115   \n",
       "4  Product 5    105    2019-12-17    118      129    140     117      103   \n",
       "\n",
       "   Dylan  Lavada  \n",
       "0    140     129  \n",
       "1    106     116  \n",
       "2     66      22  \n",
       "3    119     108  \n",
       "4    127     114  "
      ]
     },
     "execution_count": 95,
     "metadata": {},
     "output_type": "execute_result"
    }
   ],
   "source": [
    "experts = pd.read_excel('Home Assignment 3 Data.xlsx', sheet_name=1) # читаем второй лист экселя\n",
    "experts.rename(columns = {'Unnamed: 0': 'index'}, inplace = True)\n",
    "experts.head()"
   ]
  },
  {
   "cell_type": "code",
   "execution_count": 123,
   "metadata": {},
   "outputs": [
    {
     "data": {
      "text/html": [
       "<div>\n",
       "<style scoped>\n",
       "    .dataframe tbody tr th:only-of-type {\n",
       "        vertical-align: middle;\n",
       "    }\n",
       "\n",
       "    .dataframe tbody tr th {\n",
       "        vertical-align: top;\n",
       "    }\n",
       "\n",
       "    .dataframe thead th {\n",
       "        text-align: right;\n",
       "    }\n",
       "</style>\n",
       "<table border=\"1\" class=\"dataframe\">\n",
       "  <thead>\n",
       "    <tr style=\"text-align: right;\">\n",
       "      <th></th>\n",
       "      <th>Keith</th>\n",
       "      <th>Brianna</th>\n",
       "      <th>Blair</th>\n",
       "      <th>Kelsey</th>\n",
       "      <th>Matthew</th>\n",
       "      <th>Dylan</th>\n",
       "      <th>Lavada</th>\n",
       "      <th>prediction</th>\n",
       "      <th>var</th>\n",
       "    </tr>\n",
       "  </thead>\n",
       "  <tbody>\n",
       "    <tr>\n",
       "      <th>0</th>\n",
       "      <td>134</td>\n",
       "      <td>165</td>\n",
       "      <td>124</td>\n",
       "      <td>136</td>\n",
       "      <td>164</td>\n",
       "      <td>140</td>\n",
       "      <td>129</td>\n",
       "      <td>141.71</td>\n",
       "      <td>268.24</td>\n",
       "    </tr>\n",
       "    <tr>\n",
       "      <th>1</th>\n",
       "      <td>128</td>\n",
       "      <td>108</td>\n",
       "      <td>105</td>\n",
       "      <td>107</td>\n",
       "      <td>97</td>\n",
       "      <td>106</td>\n",
       "      <td>116</td>\n",
       "      <td>109.57</td>\n",
       "      <td>96.95</td>\n",
       "    </tr>\n",
       "    <tr>\n",
       "      <th>2</th>\n",
       "      <td>39</td>\n",
       "      <td>47</td>\n",
       "      <td>43</td>\n",
       "      <td>45</td>\n",
       "      <td>43</td>\n",
       "      <td>66</td>\n",
       "      <td>22</td>\n",
       "      <td>43.57</td>\n",
       "      <td>167.29</td>\n",
       "    </tr>\n",
       "    <tr>\n",
       "      <th>3</th>\n",
       "      <td>105</td>\n",
       "      <td>112</td>\n",
       "      <td>114</td>\n",
       "      <td>119</td>\n",
       "      <td>115</td>\n",
       "      <td>119</td>\n",
       "      <td>108</td>\n",
       "      <td>113.14</td>\n",
       "      <td>27.81</td>\n",
       "    </tr>\n",
       "    <tr>\n",
       "      <th>4</th>\n",
       "      <td>118</td>\n",
       "      <td>129</td>\n",
       "      <td>140</td>\n",
       "      <td>117</td>\n",
       "      <td>103</td>\n",
       "      <td>127</td>\n",
       "      <td>114</td>\n",
       "      <td>121.14</td>\n",
       "      <td>143.14</td>\n",
       "    </tr>\n",
       "  </tbody>\n",
       "</table>\n",
       "</div>"
      ],
      "text/plain": [
       "   Keith  Brianna  Blair  Kelsey  Matthew  Dylan  Lavada  prediction    var\n",
       "0    134      165    124     136      164    140     129      141.71 268.24\n",
       "1    128      108    105     107       97    106     116      109.57  96.95\n",
       "2     39       47     43      45       43     66      22       43.57 167.29\n",
       "3    105      112    114     119      115    119     108      113.14  27.81\n",
       "4    118      129    140     117      103    127     114      121.14 143.14"
      ]
     },
     "execution_count": 123,
     "metadata": {},
     "output_type": "execute_result"
    }
   ],
   "source": [
    "expert_columns = experts.iloc[:, 3:10] # выбираем столбцы с экспертами, считаем для них среднее (prediction) и дисперсию\n",
    "expert_columns['prediction'] = expert_columns.mean(axis=1) \n",
    "expert_columns['var'] = np.var(expert_columns, axis = 1, ddof = 2) # дисперсия посчитана выборочная (совпадает со значением функции ДИСП.В в эксель)\n",
    "expert_columns.head()"
   ]
  },
  {
   "cell_type": "code",
   "execution_count": 98,
   "metadata": {},
   "outputs": [
    {
     "name": "stdout",
     "output_type": "stream",
     "text": [
      "Модели оценены и сохранены в файл 'model_parameters.xlsx'.\n"
     ]
    }
   ],
   "source": [
    "season_start = pd.to_datetime('2019-09-01')  # задаем начало и конец сезона продаж из условия\n",
    "season_end = pd.to_datetime('2019-12-31')   \n",
    "season_days = (season_end - season_start).days + 1  # считаем количество дней в сезоне\n",
    "\n",
    "def uncensor_demand(stockout_date, order_quantity): # demand uncensoring на основе данных о продажах и assumption об их равномерном распределении\n",
    "    if pd.isna(stockout_date): # если товар не закончился, значит, его продали меньше заказанного объема в 150 штук\n",
    "        return order_quantity\n",
    "    stockout_date = pd.to_datetime(stockout_date)\n",
    "    days_sold = (stockout_date - season_start).days + 1 # считаем продажи\n",
    "    return (order_quantity / days_sold) * season_days\n",
    "\n",
    "experts['demand'] = experts.apply(lambda row: uncensor_demand(row['Stockout date'], row['Sales']), axis=1) # применяем написанную функцию\n",
    "experts['prediction'] = expert_columns['prediction']  # средний прогноз, рассчитанный выше\n",
    "experts['MSE'] = (experts['prediction'] - experts['demand'])**2  # квадратичная ошибка\n",
    "experts['var'] = expert_columns['var']\n",
    "\n",
    "expert = experts[['index', 'demand', 'prediction', 'MSE', 'var']].copy()\n",
    "\n",
    "X = sm.add_constant(expert['var']) # строим регрессию на MSE с регрессором-дисперсией\n",
    "y = expert['MSE']\n",
    "model = sm.OLS(y, X).fit()\n",
    "expert.loc[:, 'adj_var'] = model.predict(X) # находим adjusted variances\n",
    "expert['adj_var'] = expert['adj_var'].apply(lambda x: max(x, 0.01)) # заменяем отрицательные значения (было одно) на 0.01\n",
    "\n",
    "eval_mu = expert['prediction']\n",
    "eval_sigma = model.predict(X)\n",
    "expert['int1_50_l_1'] = ss.norm.ppf(0.25, loc = eval_mu, scale = eval_sigma) # строим 50%-ый доверительный интервал\n",
    "expert['int1_50_u_1'] = ss.norm.ppf(0.75, loc = eval_mu, scale = eval_sigma)\n",
    "expert['int1_50_coverage_1'] = (expert['demand'] >= expert['int1_50_l_1']) & (expert['demand'] <= expert['int1_50_u_1']) # подсчитываем покрытие реального \n",
    "                                                                                                                        #спроса нашим доверительным интервалом\n",
    "\n",
    "try:\n",
    "    wb = load_workbook(file_path) # сохраняем в ту же книгу эксель, что и первую проблему (лист experts)\n",
    "    if 'experts' in wb.sheetnames:\n",
    "        del wb['experts']\n",
    "        wb.save(file_path)\n",
    "    with pd.ExcelWriter(file_path, engine='openpyxl', mode='a') as writer:  \n",
    "        expert.to_excel(writer, sheet_name='experts', index=False)  \n",
    "    print(\"Модели оценены и сохранены в файл 'model_parameters.xlsx'.\")\n",
    "except Exception as e:\n",
    "    print(f\"Ошибка при сохранении файла: {e}\")"
   ]
  },
  {
   "cell_type": "markdown",
   "metadata": {},
   "source": [
    "### Tasks A (demand), B (prediction, MSE), C (var), D (adj_var), E (intervals)"
   ]
  },
  {
   "cell_type": "code",
   "execution_count": 87,
   "metadata": {},
   "outputs": [
    {
     "data": {
      "text/html": [
       "<div>\n",
       "<style scoped>\n",
       "    .dataframe tbody tr th:only-of-type {\n",
       "        vertical-align: middle;\n",
       "    }\n",
       "\n",
       "    .dataframe tbody tr th {\n",
       "        vertical-align: top;\n",
       "    }\n",
       "\n",
       "    .dataframe thead th {\n",
       "        text-align: right;\n",
       "    }\n",
       "</style>\n",
       "<table border=\"1\" class=\"dataframe\">\n",
       "  <thead>\n",
       "    <tr style=\"text-align: right;\">\n",
       "      <th></th>\n",
       "      <th>index</th>\n",
       "      <th>demand</th>\n",
       "      <th>prediction</th>\n",
       "      <th>MSE</th>\n",
       "      <th>var</th>\n",
       "      <th>adj_var</th>\n",
       "      <th>int1_50_l_1</th>\n",
       "      <th>int1_50_u_1</th>\n",
       "      <th>int1_50_coverage_1</th>\n",
       "    </tr>\n",
       "  </thead>\n",
       "  <tbody>\n",
       "    <tr>\n",
       "      <th>0</th>\n",
       "      <td>Product 1</td>\n",
       "      <td>139.24</td>\n",
       "      <td>141.71</td>\n",
       "      <td>6.13</td>\n",
       "      <td>268.24</td>\n",
       "      <td>50.77</td>\n",
       "      <td>107.47</td>\n",
       "      <td>175.96</td>\n",
       "      <td>True</td>\n",
       "    </tr>\n",
       "    <tr>\n",
       "      <th>1</th>\n",
       "      <td>Product 2</td>\n",
       "      <td>114.38</td>\n",
       "      <td>109.57</td>\n",
       "      <td>23.07</td>\n",
       "      <td>96.95</td>\n",
       "      <td>17.46</td>\n",
       "      <td>97.79</td>\n",
       "      <td>121.35</td>\n",
       "      <td>True</td>\n",
       "    </tr>\n",
       "    <tr>\n",
       "      <th>2</th>\n",
       "      <td>Product 3</td>\n",
       "      <td>39.00</td>\n",
       "      <td>43.57</td>\n",
       "      <td>20.90</td>\n",
       "      <td>167.29</td>\n",
       "      <td>31.14</td>\n",
       "      <td>22.57</td>\n",
       "      <td>64.57</td>\n",
       "      <td>True</td>\n",
       "    </tr>\n",
       "    <tr>\n",
       "      <th>3</th>\n",
       "      <td>Product 4</td>\n",
       "      <td>115.41</td>\n",
       "      <td>113.14</td>\n",
       "      <td>5.12</td>\n",
       "      <td>27.81</td>\n",
       "      <td>4.02</td>\n",
       "      <td>110.43</td>\n",
       "      <td>115.85</td>\n",
       "      <td>True</td>\n",
       "    </tr>\n",
       "    <tr>\n",
       "      <th>4</th>\n",
       "      <td>Product 5</td>\n",
       "      <td>118.61</td>\n",
       "      <td>121.14</td>\n",
       "      <td>6.41</td>\n",
       "      <td>143.14</td>\n",
       "      <td>26.44</td>\n",
       "      <td>103.31</td>\n",
       "      <td>138.98</td>\n",
       "      <td>True</td>\n",
       "    </tr>\n",
       "  </tbody>\n",
       "</table>\n",
       "</div>"
      ],
      "text/plain": [
       "       index  demand  prediction   MSE    var  adj_var  int1_50_l_1  \\\n",
       "0  Product 1  139.24      141.71  6.13 268.24    50.77       107.47   \n",
       "1  Product 2  114.38      109.57 23.07  96.95    17.46        97.79   \n",
       "2  Product 3   39.00       43.57 20.90 167.29    31.14        22.57   \n",
       "3  Product 4  115.41      113.14  5.12  27.81     4.02       110.43   \n",
       "4  Product 5  118.61      121.14  6.41 143.14    26.44       103.31   \n",
       "\n",
       "   int1_50_u_1  int1_50_coverage_1  \n",
       "0       175.96                True  \n",
       "1       121.35                True  \n",
       "2        64.57                True  \n",
       "3       115.85                True  \n",
       "4       138.98                True  "
      ]
     },
     "execution_count": 87,
     "metadata": {},
     "output_type": "execute_result"
    }
   ],
   "source": [
    "expert.head()"
   ]
  },
  {
   "cell_type": "markdown",
   "metadata": {},
   "source": [
    "### Task C (plot)"
   ]
  },
  {
   "cell_type": "code",
   "execution_count": 99,
   "metadata": {},
   "outputs": [
    {
     "data": {
      "image/png": "[encoded data removed]",
      "text/plain": [
       "<Figure size 600x600 with 1 Axes>"
      ]
     },
     "metadata": {},
     "output_type": "display_data"
    }
   ],
   "source": [
    "pt.figure(figsize=(6, 6))\n",
    "pt.scatter(expert['var'], expert['MSE'], alpha=0.7, edgecolors='k', color='blue') # строим график по дисперсии и MSE\n",
    "pt.title('Variance of Expert Predictions vs Squared Error of Average Prediction', fontsize=14)\n",
    "pt.xlabel('Variance of Expert Predictions', fontsize=12)\n",
    "pt.ylabel('Squared Error of Average Prediction', fontsize=12)\n",
    "pt.grid(True, linestyle='--', alpha=0.6)\n",
    "pt.tight_layout()"
   ]
  },
  {
   "cell_type": "markdown",
   "metadata": {},
   "source": [
    "За исключением редких выбросов, можно наблюдать достаточно высокую концентрацию наблюдений ближе к 0. Зависимость на первый взгляд выявить сложно"
   ]
  },
  {
   "cell_type": "markdown",
   "metadata": {},
   "source": [
    "### Task D: Регрессия squared errors на expert's variance (была задана выше, здесь просто саммери)"
   ]
  },
  {
   "cell_type": "code",
   "execution_count": 70,
   "metadata": {},
   "outputs": [
    {
     "data": {
      "text/html": [
       "<table class=\"simpletable\">\n",
       "<caption>OLS Regression Results</caption>\n",
       "<tr>\n",
       "  <th>Dep. Variable:</th>           <td>MSE</td>       <th>  R-squared:         </th> <td>   0.173</td>\n",
       "</tr>\n",
       "<tr>\n",
       "  <th>Model:</th>                   <td>OLS</td>       <th>  Adj. R-squared:    </th> <td>   0.160</td>\n",
       "</tr>\n",
       "<tr>\n",
       "  <th>Method:</th>             <td>Least Squares</td>  <th>  F-statistic:       </th> <td>   14.18</td>\n",
       "</tr>\n",
       "<tr>\n",
       "  <th>Date:</th>             <td>Sun, 01 Dec 2024</td> <th>  Prob (F-statistic):</th> <td>0.000349</td>\n",
       "</tr>\n",
       "<tr>\n",
       "  <th>Time:</th>                 <td>17:39:53</td>     <th>  Log-Likelihood:    </th> <td> -405.72</td>\n",
       "</tr>\n",
       "<tr>\n",
       "  <th>No. Observations:</th>      <td>    70</td>      <th>  AIC:               </th> <td>   815.4</td>\n",
       "</tr>\n",
       "<tr>\n",
       "  <th>Df Residuals:</th>          <td>    68</td>      <th>  BIC:               </th> <td>   819.9</td>\n",
       "</tr>\n",
       "<tr>\n",
       "  <th>Df Model:</th>              <td>     1</td>      <th>                     </th>     <td> </td>   \n",
       "</tr>\n",
       "<tr>\n",
       "  <th>Covariance Type:</th>      <td>nonrobust</td>    <th>                     </th>     <td> </td>   \n",
       "</tr>\n",
       "</table>\n",
       "<table class=\"simpletable\">\n",
       "<tr>\n",
       "    <td></td>       <th>coef</th>     <th>std err</th>      <th>t</th>      <th>P>|t|</th>  <th>[0.025</th>    <th>0.975]</th>  \n",
       "</tr>\n",
       "<tr>\n",
       "  <th>const</th> <td>   -1.3882</td> <td>   12.892</td> <td>   -0.108</td> <td> 0.915</td> <td>  -27.113</td> <td>   24.337</td>\n",
       "</tr>\n",
       "<tr>\n",
       "  <th>var</th>   <td>    0.2268</td> <td>    0.060</td> <td>    3.765</td> <td> 0.000</td> <td>    0.107</td> <td>    0.347</td>\n",
       "</tr>\n",
       "</table>\n",
       "<table class=\"simpletable\">\n",
       "<tr>\n",
       "  <th>Omnibus:</th>       <td>115.655</td> <th>  Durbin-Watson:     </th> <td>   2.000</td>\n",
       "</tr>\n",
       "<tr>\n",
       "  <th>Prob(Omnibus):</th> <td> 0.000</td>  <th>  Jarque-Bera (JB):  </th> <td>4059.435</td>\n",
       "</tr>\n",
       "<tr>\n",
       "  <th>Skew:</th>          <td> 5.228</td>  <th>  Prob(JB):          </th> <td>    0.00</td>\n",
       "</tr>\n",
       "<tr>\n",
       "  <th>Kurtosis:</th>      <td>38.812</td>  <th>  Cond. No.          </th> <td>    286.</td>\n",
       "</tr>\n",
       "</table><br/><br/>Notes:<br/>[1] Standard Errors assume that the covariance matrix of the errors is correctly specified."
      ],
      "text/latex": [
       "\\begin{center}\n",
       "\\begin{tabular}{lclc}\n",
       "\\toprule\n",
       "\\textbf{Dep. Variable:}    &       MSE        & \\textbf{  R-squared:         } &     0.173   \\\\\n",
       "\\textbf{Model:}            &       OLS        & \\textbf{  Adj. R-squared:    } &     0.160   \\\\\n",
       "\\textbf{Method:}           &  Least Squares   & \\textbf{  F-statistic:       } &     14.18   \\\\\n",
       "\\textbf{Date:}             & Sun, 01 Dec 2024 & \\textbf{  Prob (F-statistic):} &  0.000349   \\\\\n",
       "\\textbf{Time:}             &     17:39:53     & \\textbf{  Log-Likelihood:    } &   -405.72   \\\\\n",
       "\\textbf{No. Observations:} &          70      & \\textbf{  AIC:               } &     815.4   \\\\\n",
       "\\textbf{Df Residuals:}     &          68      & \\textbf{  BIC:               } &     819.9   \\\\\n",
       "\\textbf{Df Model:}         &           1      & \\textbf{                     } &             \\\\\n",
       "\\textbf{Covariance Type:}  &    nonrobust     & \\textbf{                     } &             \\\\\n",
       "\\bottomrule\n",
       "\\end{tabular}\n",
       "\\begin{tabular}{lcccccc}\n",
       "               & \\textbf{coef} & \\textbf{std err} & \\textbf{t} & \\textbf{P$> |$t$|$} & \\textbf{[0.025} & \\textbf{0.975]}  \\\\\n",
       "\\midrule\n",
       "\\textbf{const} &      -1.3882  &       12.892     &    -0.108  &         0.915        &      -27.113    &       24.337     \\\\\n",
       "\\textbf{var}   &       0.2268  &        0.060     &     3.765  &         0.000        &        0.107    &        0.347     \\\\\n",
       "\\bottomrule\n",
       "\\end{tabular}\n",
       "\\begin{tabular}{lclc}\n",
       "\\textbf{Omnibus:}       & 115.655 & \\textbf{  Durbin-Watson:     } &    2.000  \\\\\n",
       "\\textbf{Prob(Omnibus):} &   0.000 & \\textbf{  Jarque-Bera (JB):  } & 4059.435  \\\\\n",
       "\\textbf{Skew:}          &   5.228 & \\textbf{  Prob(JB):          } &     0.00  \\\\\n",
       "\\textbf{Kurtosis:}      &  38.812 & \\textbf{  Cond. No.          } &     286.  \\\\\n",
       "\\bottomrule\n",
       "\\end{tabular}\n",
       "%\\caption{OLS Regression Results}\n",
       "\\end{center}\n",
       "\n",
       "Notes: \\newline\n",
       " [1] Standard Errors assume that the covariance matrix of the errors is correctly specified."
      ],
      "text/plain": [
       "<class 'statsmodels.iolib.summary.Summary'>\n",
       "\"\"\"\n",
       "                            OLS Regression Results                            \n",
       "==============================================================================\n",
       "Dep. Variable:                    MSE   R-squared:                       0.173\n",
       "Model:                            OLS   Adj. R-squared:                  0.160\n",
       "Method:                 Least Squares   F-statistic:                     14.18\n",
       "Date:                Sun, 01 Dec 2024   Prob (F-statistic):           0.000349\n",
       "Time:                        17:39:53   Log-Likelihood:                -405.72\n",
       "No. Observations:                  70   AIC:                             815.4\n",
       "Df Residuals:                      68   BIC:                             819.9\n",
       "Df Model:                           1                                         \n",
       "Covariance Type:            nonrobust                                         \n",
       "==============================================================================\n",
       "                 coef    std err          t      P>|t|      [0.025      0.975]\n",
       "------------------------------------------------------------------------------\n",
       "const         -1.3882     12.892     -0.108      0.915     -27.113      24.337\n",
       "var            0.2268      0.060      3.765      0.000       0.107       0.347\n",
       "==============================================================================\n",
       "Omnibus:                      115.655   Durbin-Watson:                   2.000\n",
       "Prob(Omnibus):                  0.000   Jarque-Bera (JB):             4059.435\n",
       "Skew:                           5.228   Prob(JB):                         0.00\n",
       "Kurtosis:                      38.812   Cond. No.                         286.\n",
       "==============================================================================\n",
       "\n",
       "Notes:\n",
       "[1] Standard Errors assume that the covariance matrix of the errors is correctly specified.\n",
       "\"\"\""
      ]
     },
     "execution_count": 70,
     "metadata": {},
     "output_type": "execute_result"
    }
   ],
   "source": [
    "model.summary()"
   ]
  },
  {
   "cell_type": "markdown",
   "metadata": {},
   "source": [
    "### Task E: interval estimation"
   ]
  },
  {
   "cell_type": "code",
   "execution_count": 89,
   "metadata": {},
   "outputs": [
    {
     "name": "stdout",
     "output_type": "stream",
     "text": [
      "50% interval coverage model:  0.9429\n"
     ]
    }
   ],
   "source": [
    "print('50% interval coverage model: ', round(expert['int1_50_coverage_1'].mean(),4))"
   ]
  },
  {
   "cell_type": "markdown",
   "metadata": {},
   "source": [
    "Покрытие высокое, однако это скорее связано с низким уровнем доверия (всего 50%)"
   ]
  },
  {
   "cell_type": "markdown",
   "metadata": {},
   "source": [
    "## Problem 3"
   ]
  },
  {
   "cell_type": "code",
   "execution_count": 107,
   "metadata": {},
   "outputs": [],
   "source": [
    "# 1. Expert predictions (Sheet 3, строки 2+, колонки A-E)\n",
    "expert_predictions = pd.read_excel('Home Assignment 3 Data.xlsx', sheet_name='Sheet3', usecols='A:E', skiprows=1)\n",
    "\n",
    "# 2. Event descriptions (Sheet 3, строки 2+, колонки G-K)\n",
    "event_descriptions = pd.read_excel('Home Assignment 3 Data.xlsx', sheet_name='Sheet3', usecols='G:K', skiprows=1)\n",
    "event_descriptions.rename(columns={'ifp_id.1': 'ifp_id_event'}, inplace=True)\n",
    "event_descriptions.rename(columns={'outcome.1': 'outcome_event'}, inplace=True)\n",
    "\n",
    "# 3. Prediction markets (Sheet 4, строки 2+, колонки A-C)\n",
    "prediction_markets = pd.read_excel('Home Assignment 3 Data.xlsx', sheet_name='Sheet4', usecols='A:C', skiprows=1)\n",
    "prediction_markets.rename(columns={'ifp_id': 'ifp_id_markets'}, inplace=True)\n",
    "prediction_markets.rename(columns={'outcome': 'outcome_markets'}, inplace=True)"
   ]
  },
  {
   "cell_type": "code",
   "execution_count": 108,
   "metadata": {},
   "outputs": [
    {
     "name": "stdout",
     "output_type": "stream",
     "text": [
      "Expert Predictions:\n"
     ]
    },
    {
     "data": {
      "text/html": [
       "<div>\n",
       "<style scoped>\n",
       "    .dataframe tbody tr th:only-of-type {\n",
       "        vertical-align: middle;\n",
       "    }\n",
       "\n",
       "    .dataframe tbody tr th {\n",
       "        vertical-align: top;\n",
       "    }\n",
       "\n",
       "    .dataframe thead th {\n",
       "        text-align: right;\n",
       "    }\n",
       "</style>\n",
       "<table border=\"1\" class=\"dataframe\">\n",
       "  <thead>\n",
       "    <tr style=\"text-align: right;\">\n",
       "      <th></th>\n",
       "      <th>ifp_id</th>\n",
       "      <th>prob_yes</th>\n",
       "      <th>outcome</th>\n",
       "      <th>is_superforecaster</th>\n",
       "      <th>user_id</th>\n",
       "    </tr>\n",
       "  </thead>\n",
       "  <tbody>\n",
       "    <tr>\n",
       "      <th>0</th>\n",
       "      <td>1040-0</td>\n",
       "      <td>0.80</td>\n",
       "      <td>1</td>\n",
       "      <td>0</td>\n",
       "      <td>1120</td>\n",
       "    </tr>\n",
       "    <tr>\n",
       "      <th>1</th>\n",
       "      <td>1040-0</td>\n",
       "      <td>0.99</td>\n",
       "      <td>1</td>\n",
       "      <td>1</td>\n",
       "      <td>1321</td>\n",
       "    </tr>\n",
       "    <tr>\n",
       "      <th>2</th>\n",
       "      <td>1040-0</td>\n",
       "      <td>0.01</td>\n",
       "      <td>1</td>\n",
       "      <td>1</td>\n",
       "      <td>140</td>\n",
       "    </tr>\n",
       "    <tr>\n",
       "      <th>3</th>\n",
       "      <td>1040-0</td>\n",
       "      <td>0.01</td>\n",
       "      <td>1</td>\n",
       "      <td>1</td>\n",
       "      <td>1405</td>\n",
       "    </tr>\n",
       "    <tr>\n",
       "      <th>4</th>\n",
       "      <td>1040-0</td>\n",
       "      <td>0.99</td>\n",
       "      <td>1</td>\n",
       "      <td>0</td>\n",
       "      <td>1441</td>\n",
       "    </tr>\n",
       "  </tbody>\n",
       "</table>\n",
       "</div>"
      ],
      "text/plain": [
       "   ifp_id  prob_yes  outcome  is_superforecaster  user_id\n",
       "0  1040-0      0.80        1                   0     1120\n",
       "1  1040-0      0.99        1                   1     1321\n",
       "2  1040-0      0.01        1                   1      140\n",
       "3  1040-0      0.01        1                   1     1405\n",
       "4  1040-0      0.99        1                   0     1441"
      ]
     },
     "execution_count": 108,
     "metadata": {},
     "output_type": "execute_result"
    }
   ],
   "source": [
    "print(\"Expert Predictions:\")\n",
    "expert_predictions.head()"
   ]
  },
  {
   "cell_type": "code",
   "execution_count": 109,
   "metadata": {},
   "outputs": [
    {
     "name": "stdout",
     "output_type": "stream",
     "text": [
      "\n",
      "Event Descriptions:\n"
     ]
    },
    {
     "data": {
      "text/html": [
       "<div>\n",
       "<style scoped>\n",
       "    .dataframe tbody tr th:only-of-type {\n",
       "        vertical-align: middle;\n",
       "    }\n",
       "\n",
       "    .dataframe tbody tr th {\n",
       "        vertical-align: top;\n",
       "    }\n",
       "\n",
       "    .dataframe thead th {\n",
       "        text-align: right;\n",
       "    }\n",
       "</style>\n",
       "<table border=\"1\" class=\"dataframe\">\n",
       "  <thead>\n",
       "    <tr style=\"text-align: right;\">\n",
       "      <th></th>\n",
       "      <th>ifp_id_event</th>\n",
       "      <th>q_text</th>\n",
       "      <th>outcome_event</th>\n",
       "      <th>date_start</th>\n",
       "      <th>date_closed</th>\n",
       "    </tr>\n",
       "  </thead>\n",
       "  <tbody>\n",
       "    <tr>\n",
       "      <th>0</th>\n",
       "      <td>1040-0</td>\n",
       "      <td>Will Aleksandr Lukashenko remain president of Belarus through 30 June 2012?</td>\n",
       "      <td>1.00</td>\n",
       "      <td>2011-11-08</td>\n",
       "      <td>2012-06-30T00:00:00Z</td>\n",
       "    </tr>\n",
       "    <tr>\n",
       "      <th>1</th>\n",
       "      <td>1047-0</td>\n",
       "      <td>Will a foreign or multinational military force fire on, invade, or enter Iran before 1 September 2012?</td>\n",
       "      <td>0.00</td>\n",
       "      <td>2011-12-14</td>\n",
       "      <td>2012-08-31T00:00:00Z</td>\n",
       "    </tr>\n",
       "    <tr>\n",
       "      <th>2</th>\n",
       "      <td>1056-0</td>\n",
       "      <td>Will 1 Euro buy less than $1.20 US dollars at any point before 1 January 2013?</td>\n",
       "      <td>0.00</td>\n",
       "      <td>2012-01-09</td>\n",
       "      <td>2012-12-31T00:00:00Z</td>\n",
       "    </tr>\n",
       "    <tr>\n",
       "      <th>3</th>\n",
       "      <td>1061-0</td>\n",
       "      <td>Will Syria's Arab League membership be reinstated* by 31 December 2012?</td>\n",
       "      <td>0.00</td>\n",
       "      <td>2012-01-09</td>\n",
       "      <td>2012-12-31T00:00:00Z</td>\n",
       "    </tr>\n",
       "    <tr>\n",
       "      <th>4</th>\n",
       "      <td>1065-0</td>\n",
       "      <td>Will there be a significant* lethal confrontation involving government forces in the South China Sea or East China Sea between 23 January 2012 and 31 December 2012?</td>\n",
       "      <td>0.00</td>\n",
       "      <td>2012-01-23</td>\n",
       "      <td>2012-12-31T00:00:00Z</td>\n",
       "    </tr>\n",
       "  </tbody>\n",
       "</table>\n",
       "</div>"
      ],
      "text/plain": [
       "  ifp_id_event  \\\n",
       "0       1040-0   \n",
       "1       1047-0   \n",
       "2       1056-0   \n",
       "3       1061-0   \n",
       "4       1065-0   \n",
       "\n",
       "                                                                                                                                                                 q_text  \\\n",
       "0                                                                                           Will Aleksandr Lukashenko remain president of Belarus through 30 June 2012?   \n",
       "1                                                                Will a foreign or multinational military force fire on, invade, or enter Iran before 1 September 2012?   \n",
       "2                                                                                        Will 1 Euro buy less than $1.20 US dollars at any point before 1 January 2013?   \n",
       "3                                                                                               Will Syria's Arab League membership be reinstated* by 31 December 2012?   \n",
       "4  Will there be a significant* lethal confrontation involving government forces in the South China Sea or East China Sea between 23 January 2012 and 31 December 2012?   \n",
       "\n",
       "   outcome_event date_start           date_closed  \n",
       "0           1.00 2011-11-08  2012-06-30T00:00:00Z  \n",
       "1           0.00 2011-12-14  2012-08-31T00:00:00Z  \n",
       "2           0.00 2012-01-09  2012-12-31T00:00:00Z  \n",
       "3           0.00 2012-01-09  2012-12-31T00:00:00Z  \n",
       "4           0.00 2012-01-23  2012-12-31T00:00:00Z  "
      ]
     },
     "execution_count": 109,
     "metadata": {},
     "output_type": "execute_result"
    }
   ],
   "source": [
    "print(\"\\nEvent Descriptions:\")\n",
    "event_descriptions.head()"
   ]
  },
  {
   "cell_type": "code",
   "execution_count": 110,
   "metadata": {},
   "outputs": [
    {
     "name": "stdout",
     "output_type": "stream",
     "text": [
      "\n",
      "Prediction Markets:\n"
     ]
    },
    {
     "data": {
      "text/html": [
       "<div>\n",
       "<style scoped>\n",
       "    .dataframe tbody tr th:only-of-type {\n",
       "        vertical-align: middle;\n",
       "    }\n",
       "\n",
       "    .dataframe tbody tr th {\n",
       "        vertical-align: top;\n",
       "    }\n",
       "\n",
       "    .dataframe thead th {\n",
       "        text-align: right;\n",
       "    }\n",
       "</style>\n",
       "<table border=\"1\" class=\"dataframe\">\n",
       "  <thead>\n",
       "    <tr style=\"text-align: right;\">\n",
       "      <th></th>\n",
       "      <th>ifp_id_markets</th>\n",
       "      <th>prob_yes</th>\n",
       "      <th>outcome_markets</th>\n",
       "    </tr>\n",
       "  </thead>\n",
       "  <tbody>\n",
       "    <tr>\n",
       "      <th>0</th>\n",
       "      <td>1047-0</td>\n",
       "      <td>0.10</td>\n",
       "      <td>0.00</td>\n",
       "    </tr>\n",
       "    <tr>\n",
       "      <th>1</th>\n",
       "      <td>1056-0</td>\n",
       "      <td>0.10</td>\n",
       "      <td>0.00</td>\n",
       "    </tr>\n",
       "    <tr>\n",
       "      <th>2</th>\n",
       "      <td>1061-0</td>\n",
       "      <td>0.01</td>\n",
       "      <td>0.00</td>\n",
       "    </tr>\n",
       "    <tr>\n",
       "      <th>3</th>\n",
       "      <td>1065-0</td>\n",
       "      <td>0.05</td>\n",
       "      <td>0.00</td>\n",
       "    </tr>\n",
       "    <tr>\n",
       "      <th>4</th>\n",
       "      <td>1081-0</td>\n",
       "      <td>0.04</td>\n",
       "      <td>0.00</td>\n",
       "    </tr>\n",
       "  </tbody>\n",
       "</table>\n",
       "</div>"
      ],
      "text/plain": [
       "  ifp_id_markets  prob_yes  outcome_markets\n",
       "0         1047-0      0.10             0.00\n",
       "1         1056-0      0.10             0.00\n",
       "2         1061-0      0.01             0.00\n",
       "3         1065-0      0.05             0.00\n",
       "4         1081-0      0.04             0.00"
      ]
     },
     "execution_count": 110,
     "metadata": {},
     "output_type": "execute_result"
    }
   ],
   "source": [
    "print(\"\\nPrediction Markets:\")\n",
    "prediction_markets.head()"
   ]
  },
  {
   "cell_type": "markdown",
   "metadata": {},
   "source": [
    "### Question A. IFP ID 1184-0"
   ]
  },
  {
   "cell_type": "code",
   "execution_count": 111,
   "metadata": {},
   "outputs": [
    {
     "name": "stdout",
     "output_type": "stream",
     "text": [
      "Описание события для IFP ID 1184-0:\n"
     ]
    },
    {
     "data": {
      "text/html": [
       "<div>\n",
       "<style scoped>\n",
       "    .dataframe tbody tr th:only-of-type {\n",
       "        vertical-align: middle;\n",
       "    }\n",
       "\n",
       "    .dataframe tbody tr th {\n",
       "        vertical-align: top;\n",
       "    }\n",
       "\n",
       "    .dataframe thead th {\n",
       "        text-align: right;\n",
       "    }\n",
       "</style>\n",
       "<table border=\"1\" class=\"dataframe\">\n",
       "  <thead>\n",
       "    <tr style=\"text-align: right;\">\n",
       "      <th></th>\n",
       "      <th>ifp_id_event</th>\n",
       "      <th>q_text</th>\n",
       "      <th>outcome_event</th>\n",
       "      <th>date_start</th>\n",
       "      <th>date_closed</th>\n",
       "    </tr>\n",
       "  </thead>\n",
       "  <tbody>\n",
       "    <tr>\n",
       "      <th>62</th>\n",
       "      <td>1184-0</td>\n",
       "      <td>Before 1 April 2013, will substantial* evidence emerge that Iran has enriched any uranium above 27% purity?</td>\n",
       "      <td>0.00</td>\n",
       "      <td>2012-12-17</td>\n",
       "      <td>2013-03-31T00:00:00Z</td>\n",
       "    </tr>\n",
       "  </tbody>\n",
       "</table>\n",
       "</div>"
      ],
      "text/plain": [
       "   ifp_id_event  \\\n",
       "62       1184-0   \n",
       "\n",
       "                                                                                                         q_text  \\\n",
       "62  Before 1 April 2013, will substantial* evidence emerge that Iran has enriched any uranium above 27% purity?   \n",
       "\n",
       "    outcome_event date_start           date_closed  \n",
       "62           0.00 2012-12-17  2013-03-31T00:00:00Z  "
      ]
     },
     "execution_count": 111,
     "metadata": {},
     "output_type": "execute_result"
    }
   ],
   "source": [
    "event_1184 = event_descriptions[event_descriptions['ifp_id_event'] == '1184-0']\n",
    "print(\"Описание события для IFP ID 1184-0:\")\n",
    "event_1184"
   ]
  },
  {
   "cell_type": "markdown",
   "metadata": {},
   "source": [
    "### Question B. Average prediction and Brier Score"
   ]
  },
  {
   "cell_type": "code",
   "execution_count": 124,
   "metadata": {},
   "outputs": [
    {
     "name": "stdout",
     "output_type": "stream",
     "text": [
      "Таблица средних Brier Score по каждому событию:\n",
      "is_superforecaster ifp_id_event  brier_score_non_super  brier_score_super\n",
      "0                        1040-0                   0.03               0.01\n",
      "1                        1047-0                   0.04               0.01\n",
      "2                        1056-0                   0.30               0.00\n",
      "3                        1061-0                   0.04               0.00\n",
      "4                        1065-0                   0.07               0.00\n",
      "..                          ...                    ...                ...\n",
      "75                       1204-0                   0.20               0.01\n",
      "76                       1208-4                   0.11               0.02\n",
      "77                       1210-2                   0.11               0.04\n",
      "78                       1211-1                   0.15               0.02\n",
      "79                       1212-0                   0.08               0.01\n",
      "\n",
      "[80 rows x 3 columns]\n",
      "\n",
      "Средний Brier Score для superforecasters по всем событиям: 0.065\n",
      "Средний Brier Score для обычных прогнозистов по всем событиям: 0.154\n",
      "\n",
      "События, где обычные прогнозисты показали себя лучше суперпрогнозистов:\n",
      "is_superforecaster ifp_id_event  brier_score_non_super  brier_score_super\n",
      "17                       1117-0                   0.50               0.56\n",
      "25                       1133-0                   0.38               0.51\n",
      "29                       1138-1                   0.48               0.84\n",
      "33                       1143-1                   0.32               0.65\n",
      "48                       1167-2                   0.30               0.56\n",
      "65                       1188-2                   0.30               0.55\n"
     ]
    }
   ],
   "source": [
    "# Группировка и расчет средней вероятности для каждой группы (superforecaster / нет) по каждому событию\n",
    "avg_probs = expert_predictions.groupby(['ifp_id', 'is_superforecaster'])['prob_yes'].mean().reset_index()\n",
    "\n",
    "# Присоединяем исходы событий из event_descriptions\n",
    "avg_probs = avg_probs.merge(event_descriptions[['ifp_id_event', 'outcome_event']], \n",
    "                            left_on='ifp_id', \n",
    "                            right_on='ifp_id_event')\n",
    "\n",
    "# Рассчет Brier Score для каждой строки\n",
    "avg_probs['brier_score'] = (avg_probs['prob_yes'] - avg_probs['outcome_event']) ** 2\n",
    "\n",
    "# Группировка по событиям и разделение по is_superforecaster\n",
    "mean_brier_scores = avg_probs.pivot_table(\n",
    "    index='ifp_id_event',\n",
    "    columns='is_superforecaster',\n",
    "    values='brier_score',\n",
    "    aggfunc='mean').reset_index()\n",
    "\n",
    "# Переименование колонок для удобства\n",
    "mean_brier_scores.rename(columns={0: 'brier_score_non_super', 1: 'brier_score_super'}, inplace=True)\n",
    "\n",
    "# Вывод таблицы\n",
    "print(\"Таблица средних Brier Score по каждому событию:\")\n",
    "print(mean_brier_scores)\n",
    "\n",
    "# Итоговые средние для двух групп\n",
    "mean_super = mean_brier_scores['brier_score_super'].mean().round(3)\n",
    "mean_non_super = mean_brier_scores['brier_score_non_super'].mean().round (3)\n",
    "\n",
    "print(\"\\nСредний Brier Score для superforecasters по всем событиям:\", mean_super)\n",
    "print(\"Средний Brier Score для обычных прогнозистов по всем событиям:\", mean_non_super)\n",
    "print ()\n",
    "\n",
    "# Проверка событий, где обычные прогнозисты лучше\n",
    "better_non_super = mean_brier_scores[\n",
    "    mean_brier_scores['brier_score_non_super'] < mean_brier_scores['brier_score_super']\n",
    "]\n",
    "print(\"События, где обычные прогнозисты показали себя лучше суперпрогнозистов:\")\n",
    "print(better_non_super)"
   ]
  },
  {
   "cell_type": "markdown",
   "metadata": {},
   "source": [
    "По некоторым событиям superforecasters показывают удивительные результаты, близкие к 0.\n",
    "В среднем superforcasters показывали лучшие результаты с довольно большим отрывом.\n",
    "Только в 6 событиях из 80 обычные прогнозисты показали лучшие результаты."
   ]
  },
  {
   "cell_type": "markdown",
   "metadata": {},
   "source": [
    "### Question С. Extremizing predictions"
   ]
  },
  {
   "cell_type": "code",
   "execution_count": 113,
   "metadata": {},
   "outputs": [
    {
     "data": {
      "image/png": "[encoded data removed]",
      "text/plain": [
       "<Figure size 640x480 with 1 Axes>"
      ]
     },
     "metadata": {},
     "output_type": "display_data"
    }
   ],
   "source": [
    "avg_probs['ext_prob'] = ss.norm.cdf(2 * ss.norm.ppf(avg_probs['prob_yes']))\n",
    "\n",
    "# Построение гистограмм\n",
    "pt.hist(avg_probs['prob_yes'], bins=20, alpha=0.5, label='Original')\n",
    "pt.hist(avg_probs['ext_prob'], bins=20, alpha=0.5, label='Extremized')\n",
    "pt.legend()\n",
    "pt.title(\"Histogram of Original and Extremized Predictions\")\n",
    "pt.show()"
   ]
  },
  {
   "cell_type": "markdown",
   "metadata": {},
   "source": [
    "Суть extremization: прогнозы около 0,5 довольно нейтральные и не дают в полной мере сигнала о вероятности исхода. Extremization делает прогнозы более конкретными - либо ближе к 0, либо ближе к 1. Как можно заметить, меньше значений стало в середине и больше по краям. "
   ]
  },
  {
   "cell_type": "markdown",
   "metadata": {},
   "source": [
    "### Question D. Brier Score after extremization"
   ]
  },
  {
   "cell_type": "code",
   "execution_count": 116,
   "metadata": {},
   "outputs": [
    {
     "name": "stdout",
     "output_type": "stream",
     "text": [
      "Средний Brier Score after extremization:\n",
      "   is_superforecaster mean_ext_brier_score\n",
      "0                   0                0.127\n",
      "1                   1                0.074\n"
     ]
    }
   ],
   "source": [
    "# Рассчитываем Brier Score after extremization\n",
    "avg_probs['ext_brier_score'] = (avg_probs['ext_prob'] - avg_probs['outcome_event']) ** 2\n",
    "\n",
    "# Группировка и вычисление среднего Brier Score after extremization\n",
    "ext_brier_scores = avg_probs.groupby('is_superforecaster').agg(\n",
    "    mean_ext_brier_score=('ext_brier_score', 'mean')\n",
    ").reset_index()\n",
    "\n",
    "# Выводим результаты\n",
    "print(\"Средний Brier Score after extremization:\")\n",
    "print(ext_brier_scores.to_string(formatters={'mean_ext_brier_score': '{:.3f}'.format}))"
   ]
  },
  {
   "cell_type": "markdown",
   "metadata": {},
   "source": [
    "Интересно получилось, что для обычных прогнозистов качество прогнозов улучшилось (0.127 против 0.154), \n",
    "а для superforecasters ухудшилось (0.074 против 0.065)"
   ]
  },
  {
   "cell_type": "markdown",
   "metadata": {},
   "source": [
    "### Question E. Сравнение с Prediction Markets"
   ]
  },
  {
   "cell_type": "code",
   "execution_count": 120,
   "metadata": {},
   "outputs": [
    {
     "name": "stdout",
     "output_type": "stream",
     "text": [
      "Таблица Brier Score для событий:\n",
      "   ifp_id_event  brier_score_non_super  brier_score_super  market_brier_score\n",
      "0        1047-0                   0.04               0.01                0.01\n",
      "1        1056-0                   0.30               0.00                0.01\n",
      "2        1061-0                   0.04               0.00                0.00\n",
      "3        1065-0                   0.07               0.00                0.00\n",
      "4        1081-0                   0.14               0.01                0.00\n",
      "..          ...                    ...                ...                 ...\n",
      "74       1204-0                   0.20               0.01                0.00\n",
      "75       1208-4                   0.11               0.02                0.21\n",
      "76       1210-2                   0.11               0.04                0.08\n",
      "77       1211-1                   0.15               0.02                0.04\n",
      "78       1212-0                   0.08               0.01                0.00\n",
      "\n",
      "[79 rows x 4 columns]\n",
      "\n",
      "В скольких событиях наименьшее значение Brier Score:\n",
      "Markets: 35\n",
      "Superforecasters: 38\n",
      "Non-superforecasters: 5\n",
      "\n",
      "Среднее Brier Score по всем группам:\n",
      "Markets: 0.114\n",
      "Superforecasters: 0.066\n",
      "Non-superforecasters: 0.155\n"
     ]
    }
   ],
   "source": [
    "# Сначала рассчитываем Brier Score для прогнозов рынков\n",
    "market_data = prediction_markets.merge(event_descriptions[['ifp_id_event', 'outcome_event']],\n",
    "                                       left_on='ifp_id_markets', right_on='ifp_id_event')\n",
    "\n",
    "market_data['market_brier_score'] = (market_data['prob_yes'] - market_data['outcome_event']) ** 2\n",
    "\n",
    "# Средний Brier Score для каждого события и для каждой группы (не superforecasters, superforecasters, markets)\n",
    "avg_super = avg_probs[avg_probs['is_superforecaster'] == 1].groupby('ifp_id_event')['brier_score'].mean().reset_index()\n",
    "avg_non_super = avg_probs[avg_probs['is_superforecaster'] == 0].groupby('ifp_id_event')['brier_score'].mean().reset_index()\n",
    "avg_markets = market_data.groupby('ifp_id_event')['market_brier_score'].mean().reset_index()\n",
    "\n",
    "# Соединяем все данные по событиям\n",
    "combined_scores = avg_super.merge(avg_non_super, on='ifp_id_event', suffixes=('_super', '_non_super'))\n",
    "combined_scores = combined_scores.merge(avg_markets, on='ifp_id_event')\n",
    "\n",
    "# Оставляем только те события, которые есть в трех группах\n",
    "combined_scores = combined_scores.dropna()\n",
    "\n",
    "# Создаем таблицу с четырьмя колонками\n",
    "combined_scores = combined_scores[['ifp_id_event', 'brier_score_non_super', 'brier_score_super', 'market_brier_score']]\n",
    "\n",
    "# Проверка, у кого наименьшее значение Brier Score для каждого события\n",
    "min_brier_super = (combined_scores['brier_score_super'] < combined_scores[['brier_score_non_super', 'market_brier_score']].min(axis=1)).sum()\n",
    "min_brier_non_super = (combined_scores['brier_score_non_super'] < combined_scores[['brier_score_super', 'market_brier_score']].min(axis=1)).sum()\n",
    "min_brier_markets = (combined_scores['market_brier_score'] < combined_scores[['brier_score_non_super', 'brier_score_super']].min(axis=1)).sum()\n",
    "\n",
    "# Средние значения Brier Score по каждой группе\n",
    "mean_super = combined_scores['brier_score_super'].mean()\n",
    "mean_non_super = combined_scores['brier_score_non_super'].mean()\n",
    "mean_markets = combined_scores['market_brier_score'].mean()\n",
    "\n",
    "# Выводим таблицу и результаты\n",
    "print(\"Таблица Brier Score для событий:\")\n",
    "print(combined_scores)\n",
    "\n",
    "print(\"\\nВ скольких событиях наименьшее значение Brier Score:\")\n",
    "print(f\"Markets: {min_brier_markets}\")\n",
    "print(f\"Superforecasters: {min_brier_super}\")\n",
    "print(f\"Non-superforecasters: {min_brier_non_super}\")\n",
    "\n",
    "print(\"\\nСреднее Brier Score по всем группам:\")\n",
    "print(f\"Markets: {mean_markets:.3f}\")\n",
    "print(f\"Superforecasters: {mean_super:.3f}\")\n",
    "print(f\"Non-superforecasters: {mean_non_super:.3f}\")"
   ]
  },
  {
   "cell_type": "markdown",
   "metadata": {},
   "source": [
    "В среднем superforecasters показывали лучшие результаты по сравнению с regulars и markets.\n",
    "В то же время superforecasters показали наилучший результат среди трех групп в 38 событиях, а markets - в 35,\n",
    "то есть отрыв не такой большой"
   ]
  },
  {
   "cell_type": "code",
   "execution_count": null,
   "metadata": {},
   "outputs": [],
   "source": []
  }
 ],
 "metadata": {
  "kernelspec": {
   "display_name": "Python 3 (ipykernel)",
   "language": "python",
   "name": "python3"
  },
  "language_info": {
   "codemirror_mode": {
    "name": "ipython",
    "version": 3
   },
   "file_extension": ".py",
   "mimetype": "text/x-python",
   "name": "python",
   "nbconvert_exporter": "python",
   "pygments_lexer": "ipython3",
   "version": "3.12.4"
  }
 },
 "nbformat": 4,
 "nbformat_minor": 4
}
